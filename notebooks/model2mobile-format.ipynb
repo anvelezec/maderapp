{
 "cells": [
  {
   "cell_type": "code",
   "execution_count": 1,
   "metadata": {},
   "outputs": [
    {
     "name": "stderr",
     "output_type": "stream",
     "text": [
      "/home/ubuntu/anaconda3/envs/maderapp/lib/python3.8/site-packages/tqdm/auto.py:22: TqdmWarning: IProgress not found. Please update jupyter and ipywidgets. See https://ipywidgets.readthedocs.io/en/stable/user_install.html\n",
      "  from .autonotebook import tqdm as notebook_tqdm\n"
     ]
    }
   ],
   "source": [
    "from maderapp.model import TimberEfficientNet, TimberEfficientNetNS, TimberMobileNet, TimberResNet\n",
    "from maderapp.utils import pytorch_model_trace_to_mobile_optim"
   ]
  },
  {
   "cell_type": "code",
   "execution_count": 5,
   "metadata": {},
   "outputs": [
    {
     "name": "stdout",
     "output_type": "stream",
     "text": [
      "Number no trainable parameters: 2223872 \n",
      "Number trainable parameters: 34587\n"
     ]
    }
   ],
   "source": [
    "models = [TimberMobileNet]\n",
    "filepaths = [\"../../data_maderapp/checkpoints-v3/None/MobileNet/maderapp-epoch=247-val_loss=0.05.ckpt\"]\n",
    "savepaths = [\"../../data_maderapp/mobile_models/opt_trace_mobileNet-v3.pt\"]\n",
    "\n",
    "for model, filepath, savepath in zip(models, filepaths, savepaths):\n",
    "    pytorch_model_trace_to_mobile_optim(\n",
    "        model_class=model,\n",
    "        num_classes=27,\n",
    "        load_path=filepath,\n",
    "        save_path=savepath,\n",
    "    )"
   ]
  }
 ],
 "metadata": {
  "interpreter": {
   "hash": "0a0b3b10e82003aee88dfb6f62ab883e4af048a53602a03dc675e7dc6a963275"
  },
  "kernelspec": {
   "display_name": "Python 3.8.13 ('maderapp')",
   "language": "python",
   "name": "python3"
  },
  "language_info": {
   "codemirror_mode": {
    "name": "ipython",
    "version": 3
   },
   "file_extension": ".py",
   "mimetype": "text/x-python",
   "name": "python",
   "nbconvert_exporter": "python",
   "pygments_lexer": "ipython3",
   "version": "3.8.13"
  },
  "orig_nbformat": 4
 },
 "nbformat": 4,
 "nbformat_minor": 2
}
