{
 "cells": [
  {
   "cell_type": "code",
   "execution_count": null,
   "metadata": {},
   "outputs": [],
   "source": [
    "from maderapp.model import TimberEfficientNet, TimberEfficientNetNS, TimberMobileNet, TimberResNet\n",
    "from maderapp.utils import pytorch_model_trace_to_mobile_optim"
   ]
  },
  {
   "cell_type": "code",
   "execution_count": null,
   "metadata": {},
   "outputs": [],
   "source": [
    "models = [TimberMobileNet]\n",
    "filepaths = [\"model_checkpoint/datav2/maderapp-epoch=499-val_loss=0.03.ckpt\"]\n",
    "savepaths = [\"mobile_models/opt_trace_mobileNet_v2.pt\"]\n",
    "\n",
    "for model, filepath, savepath in zip(models, filepaths, savepaths):\n",
    "    pytorch_model_trace_to_mobile_optim(\n",
    "        model_class=model,\n",
    "        num_classes=25,\n",
    "        load_path=filepath,\n",
    "        save_path=savepath,\n",
    "    )"
   ]
  }
 ],
 "metadata": {
  "interpreter": {
   "hash": "0a0b3b10e82003aee88dfb6f62ab883e4af048a53602a03dc675e7dc6a963275"
  },
  "kernelspec": {
   "display_name": "Python 3.8.13 ('maderapp')",
   "language": "python",
   "name": "python3"
  },
  "language_info": {
   "codemirror_mode": {
    "name": "ipython",
    "version": 3
   },
   "file_extension": ".py",
   "mimetype": "text/x-python",
   "name": "python",
   "nbconvert_exporter": "python",
   "pygments_lexer": "ipython3",
   "version": "3.8.13"
  },
  "orig_nbformat": 4
 },
 "nbformat": 4,
 "nbformat_minor": 2
}
