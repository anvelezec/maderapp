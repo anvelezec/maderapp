{
 "cells": [
  {
   "cell_type": "code",
   "execution_count": 1,
   "metadata": {},
   "outputs": [],
   "source": [
    "from maderapp.model import TimberEfficientNet, TimberEfficientNetNS, TimberMobileNet, TimberResNet\n",
    "from maderapp.utils import pytorch_model_trace_to_mobile_optim"
   ]
  },
  {
   "cell_type": "code",
   "execution_count": 3,
   "metadata": {},
   "outputs": [
    {
     "name": "stdout",
     "output_type": "stream",
     "text": [
      "Number no trainable parameters: 2223872 \n",
      "Number trainable parameters: 34587\n"
     ]
    },
    {
     "name": "stderr",
     "output_type": "stream",
     "text": [
      "/home/anvelezec/anaconda3/envs/datascience/lib/python3.8/site-packages/torch/_jit_internal.py:603: LightningDeprecationWarning: The `LightningModule.model_size` property was deprecated in v1.5 and will be removed in v1.7. Please use the `pytorch_lightning.utilities.memory.get_model_size_mb`.\n",
      "  if hasattr(mod, name):\n",
      "/home/anvelezec/anaconda3/envs/datascience/lib/python3.8/site-packages/torch/_jit_internal.py:604: LightningDeprecationWarning: The `LightningModule.model_size` property was deprecated in v1.5 and will be removed in v1.7. Please use the `pytorch_lightning.utilities.memory.get_model_size_mb`.\n",
      "  item = getattr(mod, name)\n",
      "/home/anvelezec/anaconda3/envs/datascience/lib/python3.8/site-packages/torch/_jit_internal.py:603: LightningDeprecationWarning: `LightningModule.use_amp` was deprecated in v1.6 and will be removed in v1.8. Please use `Trainer.amp_backend`.\n",
      "  if hasattr(mod, name):\n",
      "/home/anvelezec/anaconda3/envs/datascience/lib/python3.8/site-packages/torch/_jit_internal.py:604: LightningDeprecationWarning: `LightningModule.use_amp` was deprecated in v1.6 and will be removed in v1.8. Please use `Trainer.amp_backend`.\n",
      "  item = getattr(mod, name)\n",
      "/home/anvelezec/anaconda3/envs/datascience/lib/python3.8/site-packages/torch/nn/modules/module.py:887: UserWarning: Implicit dimension choice for softmax has been deprecated. Change the call to include dim=X as an argument.\n",
      "  result = self._slow_forward(*input, **kwargs)\n",
      "/home/anvelezec/projects/maderapp/maderapp/model/timber_clasification_mobileNet.py:44: UserWarning: Implicit dimension choice for softmax has been deprecated. Change the call to include dim=X as an argument.\n",
      "  return self.softmax(out)\n"
     ]
    }
   ],
   "source": [
    "models = [TimberMobileNet]\n",
    "filepaths = [\"/home/anvelezec/projects/maderapp/maderapp-epoch=247-val_loss=0.05.ckpt\"]\n",
    "savepaths = [\"opt_trace_mobileNet-v3.pt\"]\n",
    "\n",
    "for model, filepath, savepath in zip(models, filepaths, savepaths):\n",
    "    pytorch_model_trace_to_mobile_optim(\n",
    "        model_class=model,\n",
    "        num_classes=27,\n",
    "        load_path=filepath,\n",
    "        save_path=savepath,\n",
    "    )"
   ]
  }
 ],
 "metadata": {
  "kernelspec": {
   "display_name": "Python 3.8.8 ('datascience')",
   "language": "python",
   "name": "python3"
  },
  "language_info": {
   "codemirror_mode": {
    "name": "ipython",
    "version": 3
   },
   "file_extension": ".py",
   "mimetype": "text/x-python",
   "name": "python",
   "nbconvert_exporter": "python",
   "pygments_lexer": "ipython3",
   "version": "3.8.8"
  },
  "orig_nbformat": 4,
  "vscode": {
   "interpreter": {
    "hash": "677eaa3c4bb027cee0aa46169682b7119db18104a39e7ed5ee60bfe37e6e2051"
   }
  }
 },
 "nbformat": 4,
 "nbformat_minor": 2
}
