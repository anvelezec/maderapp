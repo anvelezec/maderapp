{
 "cells": [
  {
   "cell_type": "code",
   "execution_count": 1,
   "metadata": {},
   "outputs": [],
   "source": [
    "import pandas as pd\n",
    "from pathlib import Path\n",
    "import albumentations as A\n",
    "from albumentations.pytorch import ToTensorV2\n",
    "from torch.utils.data import DataLoader\n",
    "import torch \n",
    "\n",
    "from maderapp.data.data_inference import MaderappDatasetInference\n",
    "\n",
    "model_path = \"maderapp-epoch=247-val_loss=0.05.ckpt\"\n",
    "model_name = \"MobileNet\"\n",
    "num_classes = 27"
   ]
  },
  {
   "cell_type": "code",
   "execution_count": 2,
   "metadata": {},
   "outputs": [],
   "source": [
    "metadata = pd.read_csv(\"../metadata-v3.csv\", header=None)\n",
    "class_names = sorted(metadata.iloc[:, 1].value_counts().index)\n",
    "class_names2ids = {j: i for i, j in enumerate(class_names)}\n",
    "class_ids2names = {j: i for i, j in class_names2ids.items()}\n"
   ]
  },
  {
   "cell_type": "code",
   "execution_count": 3,
   "metadata": {},
   "outputs": [],
   "source": [
    "transformation = A.Compose(\n",
    "    [\n",
    "        A.Resize(224, 224),\n",
    "        A.Normalize(mean=[0.485, 0.456, 0.406], std=[0.229, 0.224, 0.225],),\n",
    "        ToTensorV2(),\n",
    "    ]\n",
    ")"
   ]
  },
  {
   "cell_type": "code",
   "execution_count": 4,
   "metadata": {},
   "outputs": [
    {
     "name": "stdout",
     "output_type": "stream",
     "text": [
      "['../../maderapp_data/images/almendro.jpg', '../../maderapp_data/images/sapote.jpg', '../../maderapp_data/images/lanchan.jpg']\n",
      "['Almendro', 'Sapote', 'Lanchan']\n"
     ]
    },
    {
     "name": "stderr",
     "output_type": "stream",
     "text": [
      "/home/anvelezec/anaconda3/envs/datascience/lib/python3.8/site-packages/torch/nn/modules/module.py:889: UserWarning: Named tensors and all their associated APIs are an experimental feature and subject to change. Please do not use them for anything important until they are released as stable. (Triggered internally at  /pytorch/c10/core/TensorImpl.h:934.)\n",
      "  result = self.forward(*input, **kwargs)\n"
     ]
    }
   ],
   "source": [
    "model = torch.jit.load(\"opt_trace_mobileNet-v3.pt\")\n",
    "data_path = \"../../maderapp_data/images/\"\n",
    "metadata = [str(path) for path in list(Path(data_path).glob(\"*.jpg\"))]\n",
    "\n",
    "print(metadata)\n",
    "\n",
    "ds = MaderappDatasetInference(annotations_file=metadata, transform=transformation)\n",
    "dl = DataLoader(ds, batch_size=3, shuffle=False, num_workers=4)\n",
    "\n",
    "x, y = next(iter(dl))\n",
    "\n",
    "y_pred = model(x)\n",
    "class_pred = [class_ids2names[int(idx)] for idx in y_pred.argmax(dim=1)]\n",
    "\n",
    "print(class_pred)"
   ]
  },
  {
   "cell_type": "code",
   "execution_count": 6,
   "metadata": {},
   "outputs": [
    {
     "data": {
      "text/plain": [
       "torch.return_types.max(\n",
       "values=tensor([1.0000, 0.9991, 0.9238]),\n",
       "indices=tensor([ 0, 22,  9]))"
      ]
     },
     "execution_count": 6,
     "metadata": {},
     "output_type": "execute_result"
    }
   ],
   "source": [
    "y_pred.max(dim=1)"
   ]
  }
 ],
 "metadata": {
  "kernelspec": {
   "display_name": "Python 3.8.8 ('datascience')",
   "language": "python",
   "name": "python3"
  },
  "language_info": {
   "codemirror_mode": {
    "name": "ipython",
    "version": 3
   },
   "file_extension": ".py",
   "mimetype": "text/x-python",
   "name": "python",
   "nbconvert_exporter": "python",
   "pygments_lexer": "ipython3",
   "version": "3.8.8"
  },
  "orig_nbformat": 4,
  "vscode": {
   "interpreter": {
    "hash": "677eaa3c4bb027cee0aa46169682b7119db18104a39e7ed5ee60bfe37e6e2051"
   }
  }
 },
 "nbformat": 4,
 "nbformat_minor": 2
}
