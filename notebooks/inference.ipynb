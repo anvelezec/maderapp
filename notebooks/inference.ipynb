{
 "cells": [
  {
   "cell_type": "code",
   "execution_count": 63,
   "metadata": {},
   "outputs": [],
   "source": [
    "import pandas as pd\n",
    "import pytorch_lightning as pl\n",
    "from pathlib import Path\n",
    "import albumentations as A\n",
    "from albumentations.pytorch import ToTensorV2\n",
    "from torch.utils.data import DataLoader\n",
    "\n",
    "from maderapp.model import TimberMobileNet\n",
    "from maderapp.validator import validator\n",
    "from maderapp.data.data_inference import MaderappDatasetInference\n",
    "\n",
    "model_path = \"maderapp-epoch=247-val_loss=0.05.ckpt\"\n",
    "model_name = \"MobileNet\"\n",
    "num_classes = 27"
   ]
  },
  {
   "cell_type": "code",
   "execution_count": 64,
   "metadata": {},
   "outputs": [
    {
     "name": "stderr",
     "output_type": "stream",
     "text": [
      "/home/ubuntu/anaconda3/envs/maderapp/lib/python3.8/site-packages/pytorch_lightning/loops/utilities.py:91: PossibleUserWarning: `max_epochs` was not set. Setting it to 1000 epochs. To train without an epoch limit, set `max_epochs=-1`.\n",
      "  rank_zero_warn(\n",
      "GPU available: True, used: True\n",
      "TPU available: False, using: 0 TPU cores\n",
      "IPU available: False, using: 0 IPUs\n",
      "HPU available: False, using: 0 HPUs\n"
     ]
    },
    {
     "name": "stdout",
     "output_type": "stream",
     "text": [
      "Number no trainable parameters: 2223872 \n",
      "Number trainable parameters: 34587\n",
      "Number no trainable parameters: 2223872 \n",
      "Number trainable parameters: 34587\n"
     ]
    }
   ],
   "source": [
    "model = TimberMobileNet(num_classes)\n",
    "model = model.load_from_checkpoint(\n",
    "    model_path,\n",
    "    num_classes=num_classes,\n",
    ")\n",
    "model.eval()\n",
    "\n",
    "trainer = pl.Trainer(\n",
    "    gpus=1,\n",
    ")\n",
    "\n",
    "metadata = pd.read_csv(\"../metadata-v3.csv\", header=None)\n",
    "class_names = sorted(metadata.iloc[:, 1].value_counts().index)\n",
    "class_names2ids = {j: i for i, j in enumerate(class_names)}\n",
    "class_ids2names = {j: i for i, j in class_names2ids.items()}\n"
   ]
  },
  {
   "cell_type": "code",
   "execution_count": 65,
   "metadata": {},
   "outputs": [
    {
     "data": {
      "text/plain": [
       "['/home/ubuntu/data_maderapp/validation/2382.jpg',\n",
       " '/home/ubuntu/data_maderapp/validation/1739.jpg',\n",
       " '/home/ubuntu/data_maderapp/validation/786.jpg',\n",
       " '/home/ubuntu/data_maderapp/validation/1720.jpg',\n",
       " '/home/ubuntu/data_maderapp/validation/2041.jpg']"
      ]
     },
     "execution_count": 65,
     "metadata": {},
     "output_type": "execute_result"
    }
   ],
   "source": [
    "data_path = \"/home/ubuntu/data_maderapp/validation/\"\n",
    "metadata = [str(path) for path in list(Path(data_path).glob(\"*.jpg\"))]\n",
    "metadata[:5]"
   ]
  },
  {
   "cell_type": "code",
   "execution_count": 66,
   "metadata": {},
   "outputs": [],
   "source": [
    "transformation = A.Compose(\n",
    "    [\n",
    "        A.Resize(224, 224),\n",
    "        A.Normalize(mean=[0.485, 0.456, 0.406], std=[0.229, 0.224, 0.225],),\n",
    "        ToTensorV2(),\n",
    "    ]\n",
    ")"
   ]
  },
  {
   "cell_type": "code",
   "execution_count": 67,
   "metadata": {},
   "outputs": [
    {
     "name": "stderr",
     "output_type": "stream",
     "text": [
      "/home/ubuntu/maderapp/maderapp/model/timber_clasification_mobileNet.py:44: UserWarning: Implicit dimension choice for softmax has been deprecated. Change the call to include dim=X as an argument.\n",
      "  return self.softmax(out)\n"
     ]
    },
    {
     "data": {
      "text/plain": [
       "'OOC'"
      ]
     },
     "execution_count": 67,
     "metadata": {},
     "output_type": "execute_result"
    }
   ],
   "source": [
    "import torch\n",
    "x = torch.randn(1,3,224,224)\n",
    "y_pred = model(x)\n",
    "class_ids2names[int(y_pred.argmax())]"
   ]
  },
  {
   "cell_type": "code",
   "execution_count": 68,
   "metadata": {},
   "outputs": [
    {
     "name": "stdout",
     "output_type": "stream",
     "text": [
      "['Cumala', 'Palo_Verde']\n"
     ]
    }
   ],
   "source": [
    "metadata = [\"/home/ubuntu/data_maderapp/validation-v3/cumala.jpg\", \"/home/ubuntu/data_maderapp/validation-v3/palo_verde.jpg\"]\n",
    "ds = MaderappDatasetInference(annotations_file=metadata, transform=transformation)\n",
    "dl = DataLoader(ds, batch_size=2, shuffle=False, num_workers=4)\n",
    "\n",
    "x, y = next(iter(dl))\n",
    "\n",
    "y_pred = model(x)\n",
    "class_pred = [class_ids2names[int(idx)] for idx in y_pred.argmax(dim=1)]\n",
    "\n",
    "print(class_pred)"
   ]
  },
  {
   "cell_type": "code",
   "execution_count": 69,
   "metadata": {},
   "outputs": [
    {
     "data": {
      "text/plain": [
       "torch.return_types.max(\n",
       "values=tensor([0.7878, 0.9989], grad_fn=<MaxBackward0>),\n",
       "indices=tensor([ 8, 17]))"
      ]
     },
     "execution_count": 69,
     "metadata": {},
     "output_type": "execute_result"
    }
   ],
   "source": [
    "y_pred.max(dim=1)"
   ]
  },
  {
   "cell_type": "code",
   "execution_count": 73,
   "metadata": {},
   "outputs": [
    {
     "data": {
      "text/plain": [
       "torch.Size([2, 3, 224, 224])"
      ]
     },
     "execution_count": 73,
     "metadata": {},
     "output_type": "execute_result"
    }
   ],
   "source": [
    "x.shape"
   ]
  },
  {
   "cell_type": "code",
   "execution_count": 78,
   "metadata": {},
   "outputs": [
    {
     "data": {
      "text/plain": [
       "torch.return_types.max(\n",
       "values=tensor([0.0796, 0.0720]),\n",
       "indices=tensor([ 6, 11]))"
      ]
     },
     "execution_count": 78,
     "metadata": {},
     "output_type": "execute_result"
    }
   ],
   "source": [
    "model1 = torch.jit.load(\"/home/ubuntu/data_maderapp/mobile_models/opt_trace_mobileNet-v3.pt\")\n",
    "y_pred = model1(x)\n",
    "class_pred = [class_ids2names[int(idx)] for idx in y_pred.argmax(dim=1)]\n",
    "y_pred.max(dim=1)"
   ]
  },
  {
   "cell_type": "code",
   "execution_count": 77,
   "metadata": {},
   "outputs": [
    {
     "data": {
      "text/plain": [
       "torch.return_types.max(\n",
       "values=tensor([0.0796, 0.0720]),\n",
       "indices=tensor([ 6, 11]))"
      ]
     },
     "execution_count": 77,
     "metadata": {},
     "output_type": "execute_result"
    }
   ],
   "source": []
  }
 ],
 "metadata": {
  "kernelspec": {
   "display_name": "Python 3.8.13 ('maderapp')",
   "language": "python",
   "name": "python3"
  },
  "language_info": {
   "codemirror_mode": {
    "name": "ipython",
    "version": 3
   },
   "file_extension": ".py",
   "mimetype": "text/x-python",
   "name": "python",
   "nbconvert_exporter": "python",
   "pygments_lexer": "ipython3",
   "version": "3.8.13"
  },
  "orig_nbformat": 4,
  "vscode": {
   "interpreter": {
    "hash": "0a0b3b10e82003aee88dfb6f62ab883e4af048a53602a03dc675e7dc6a963275"
   }
  }
 },
 "nbformat": 4,
 "nbformat_minor": 2
}
