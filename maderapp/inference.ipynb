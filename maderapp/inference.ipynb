{
 "cells": [
  {
   "cell_type": "code",
   "execution_count": null,
   "metadata": {},
   "outputs": [],
   "source": [
    "import pandas as pd\n",
    "import pytorch_lightning as pl\n",
    "\n",
    "from maderapp.model import TimberMobileNet\n",
    "from maderapp import validator\n",
    "\n",
    "model_path = \"\"\n",
    "model_name = \"MobileNet\"\n",
    "num_classes = 25"
   ]
  },
  {
   "cell_type": "code",
   "execution_count": null,
   "metadata": {},
   "outputs": [],
   "source": [
    "model = TimberMobileNet(num_classes)\n",
    "model = model.load_from_checkpoint(\n",
    "    model_path,\n",
    "    num_classes=num_classes,\n",
    ")\n",
    "model.eval()\n",
    "\n",
    "trainer = pl.Trainer(\n",
    "    gpus=1,\n",
    ")\n",
    "\n",
    "metadata = pd.read_csv(\"metadata.csv\", header=None)\n",
    "class_names = sorted(metadata.iloc[:, 1].value_counts().index)\n",
    "class_names2ids = {j: i for i, j in enumerate(class_names)}\n",
    "class_ids2names = {j: i for i, j in class_names2ids.items()}\n",
    "\n",
    "validator(trainer, model, \"RestNet\", class_ids2names)"
   ]
  }
 ],
 "metadata": {
  "language_info": {
   "name": "python"
  },
  "orig_nbformat": 4
 },
 "nbformat": 4,
 "nbformat_minor": 2
}
